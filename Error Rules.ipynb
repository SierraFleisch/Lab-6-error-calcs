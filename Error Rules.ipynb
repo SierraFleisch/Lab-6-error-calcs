{
 "cells": [
  {
   "cell_type": "code",
   "execution_count": 2,
   "id": "019e5fef",
   "metadata": {},
   "outputs": [
    {
     "name": "stdout",
     "output_type": "stream",
     "text": [
      "error = 0.022360679774997897\n"
     ]
    }
   ],
   "source": [
    "import numpy as np\n",
    "\n",
    "def rule_3(dA,dB):\n",
    "    dQ=np.sqrt(dA**2 +dB**2)\n",
    "    return dQ\n",
    "\n",
    "dx1 =0.01\n",
    "dx2 =0.02\n",
    "\n",
    "dx=rule_3(dx1,dx2)\n",
    "print ('error =',dx)"
   ]
  },
  {
   "cell_type": "code",
   "execution_count": 3,
   "id": "97b24e80",
   "metadata": {},
   "outputs": [
    {
     "name": "stdout",
     "output_type": "stream",
     "text": [
      "error= 0.6\n"
     ]
    }
   ],
   "source": [
    "def rule_1(dA,c):\n",
    "    dQ=c*dA\n",
    "    return dQ\n",
    "c=2\n",
    "dA=.3\n",
    "dx=rule_1(dA,c)\n",
    "print ('error=',dx)"
   ]
  },
  {
   "cell_type": "code",
   "execution_count": 5,
   "id": "4eb5fc09",
   "metadata": {},
   "outputs": [
    {
     "name": "stdout",
     "output_type": "stream",
     "text": [
      "error= 6.0\n"
     ]
    }
   ],
   "source": [
    "def rule_2(m,c,dA,A):\n",
    "    dQ=c*m*(A**(m-1))*dA\n",
    "    return dQ\n",
    "c=2\n",
    "m=2\n",
    "A=5\n",
    "dA=.3\n",
    "dx=rule_2(m,c,dA,A)\n",
    "print ('error=',dx)"
   ]
  },
  {
   "cell_type": "code",
   "execution_count": 12,
   "id": "326ca4c4",
   "metadata": {},
   "outputs": [
    {
     "name": "stdout",
     "output_type": "stream",
     "text": [
      "error= 0.6508541396588879\n"
     ]
    }
   ],
   "source": [
    "def rule_4(Q,m,n,dA,A,dB,B):\n",
    "    dQ=Q*(np.sqrt((((m*dA)/(A)**2))+(((n*dB)/(B))**2)))\n",
    "    return dQ\n",
    "Q=5\n",
    "m=2\n",
    "n=2\n",
    "dA=0.1\n",
    "A=4\n",
    "dB=0.2\n",
    "B=6\n",
    "dx=rule_4(Q,m,n,dA,A,dB,B)\n",
    "print ('error=',dx)"
   ]
  },
  {
   "cell_type": "code",
   "execution_count": null,
   "id": "6786a7bd",
   "metadata": {},
   "outputs": [],
   "source": []
  }
 ],
 "metadata": {
  "kernelspec": {
   "display_name": "Python 3 (ipykernel)",
   "language": "python",
   "name": "python3"
  },
  "language_info": {
   "codemirror_mode": {
    "name": "ipython",
    "version": 3
   },
   "file_extension": ".py",
   "mimetype": "text/x-python",
   "name": "python",
   "nbconvert_exporter": "python",
   "pygments_lexer": "ipython3",
   "version": "3.9.12"
  }
 },
 "nbformat": 4,
 "nbformat_minor": 5
}
